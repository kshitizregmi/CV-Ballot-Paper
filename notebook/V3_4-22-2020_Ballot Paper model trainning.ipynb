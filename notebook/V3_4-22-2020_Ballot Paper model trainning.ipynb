{
  "nbformat": 4,
  "nbformat_minor": 0,
  "metadata": {
    "colab": {
      "name": "V3.Ballot_Paper.ipynb",
      "provenance": [],
      "collapsed_sections": []
    },
    "kernelspec": {
      "name": "python3",
      "display_name": "Python 3"
    },
    "accelerator": "GPU"
  },
  "cells": [
    {
      "cell_type": "code",
      "metadata": {
        "id": "JHBlN-an_6vm",
        "colab_type": "code",
        "colab": {}
      },
      "source": [
        "import numpy as np \n",
        "import pandas as pd\n",
        "import os"
      ],
      "execution_count": 0,
      "outputs": []
    },
    {
      "cell_type": "code",
      "metadata": {
        "id": "fcF340WKRu35",
        "colab_type": "code",
        "outputId": "8d550fc1-89cf-4f01-dd2f-f76db06964ab",
        "colab": {
          "base_uri": "https://localhost:8080/",
          "height": 35
        }
      },
      "source": [
        "from google.colab import drive\n",
        "drive.mount('/content/drive')"
      ],
      "execution_count": 2,
      "outputs": [
        {
          "output_type": "stream",
          "text": [
            "Drive already mounted at /content/drive; to attempt to forcibly remount, call drive.mount(\"/content/drive\", force_remount=True).\n"
          ],
          "name": "stdout"
        }
      ]
    },
    {
      "cell_type": "code",
      "metadata": {
        "id": "FVDpV_xoR4W6",
        "colab_type": "code",
        "outputId": "f60f8d94-a516-4672-efeb-c4911166161d",
        "colab": {
          "base_uri": "https://localhost:8080/",
          "height": 35
        }
      },
      "source": [
        "pwd"
      ],
      "execution_count": 3,
      "outputs": [
        {
          "output_type": "execute_result",
          "data": {
            "text/plain": [
              "'/content'"
            ]
          },
          "metadata": {
            "tags": []
          },
          "execution_count": 3
        }
      ]
    },
    {
      "cell_type": "code",
      "metadata": {
        "id": "tIog6Wg8SChL",
        "colab_type": "code",
        "outputId": "1550e44b-8439-42c1-853b-9355ef598f4e",
        "colab": {
          "base_uri": "https://localhost:8080/",
          "height": 54
        }
      },
      "source": [
        "!mkdir train\n",
        "!mkdir test"
      ],
      "execution_count": 4,
      "outputs": [
        {
          "output_type": "stream",
          "text": [
            "mkdir: cannot create directory ‘train’: File exists\n",
            "mkdir: cannot create directory ‘test’: File exists\n"
          ],
          "name": "stdout"
        }
      ]
    },
    {
      "cell_type": "code",
      "metadata": {
        "id": "vrjfVZY9SJJJ",
        "colab_type": "code",
        "outputId": "54d8fe3e-703c-4ac8-f12e-cff5055b8e23",
        "colab": {
          "base_uri": "https://localhost:8080/",
          "height": 54
        }
      },
      "source": [
        "!tar -xf /content/drive/My Drive/Train.tar.gz\\ Drive/Test.tar.gz -C test"
      ],
      "execution_count": 5,
      "outputs": [
        {
          "output_type": "stream",
          "text": [
            "tar: /content/drive/My: Cannot open: No such file or directory\n",
            "tar: Error is not recoverable: exiting now\n"
          ],
          "name": "stdout"
        }
      ]
    },
    {
      "cell_type": "code",
      "metadata": {
        "id": "WZA9gn0WSOTw",
        "colab_type": "code",
        "colab": {}
      },
      "source": [
        "!tar -xf  '/content/drive/My Drive/Train.tar.gz' -C '/content/train'"
      ],
      "execution_count": 0,
      "outputs": []
    },
    {
      "cell_type": "code",
      "metadata": {
        "id": "UxAc_ROa8jOu",
        "colab_type": "code",
        "colab": {}
      },
      "source": [
        "!tar -xf  '/content/drive/My Drive/Test.tar.gz' -C '/content/test'"
      ],
      "execution_count": 0,
      "outputs": []
    },
    {
      "cell_type": "code",
      "metadata": {
        "id": "c-Mt2uub9VBT",
        "colab_type": "code",
        "outputId": "f30f3f65-0ded-40ad-c2c2-61b19f563893",
        "colab": {
          "base_uri": "https://localhost:8080/",
          "height": 35
        }
      },
      "source": [
        "ls train"
      ],
      "execution_count": 8,
      "outputs": [
        {
          "output_type": "stream",
          "text": [
            "\u001b[0m\u001b[01;34mtestset\u001b[0m/  testset.csv\n"
          ],
          "name": "stdout"
        }
      ]
    },
    {
      "cell_type": "code",
      "metadata": {
        "id": "_7RnmCTp9a3y",
        "colab_type": "code",
        "outputId": "2d63643b-0231-4233-a844-6f63d079e984",
        "colab": {
          "base_uri": "https://localhost:8080/",
          "height": 35
        }
      },
      "source": [
        "# number of images in the training set\n",
        "!ls train/testset | wc -l"
      ],
      "execution_count": 9,
      "outputs": [
        {
          "output_type": "stream",
          "text": [
            "9600\n"
          ],
          "name": "stdout"
        }
      ]
    },
    {
      "cell_type": "code",
      "metadata": {
        "id": "R8sfCp9E-U1b",
        "colab_type": "code",
        "outputId": "b88df3d0-bbce-47d3-9a74-ffbe3ddd9e02",
        "colab": {
          "base_uri": "https://localhost:8080/",
          "height": 35
        }
      },
      "source": [
        "# number of images in the testing set\n",
        "!ls test/testset | wc -l"
      ],
      "execution_count": 10,
      "outputs": [
        {
          "output_type": "stream",
          "text": [
            "2609\n"
          ],
          "name": "stdout"
        }
      ]
    },
    {
      "cell_type": "code",
      "metadata": {
        "id": "lJw3e6yx-8zo",
        "colab_type": "code",
        "colab": {}
      },
      "source": [
        "from tensorflow.keras.preprocessing.image import ImageDataGenerator \n",
        "from tensorflow.keras.models import Sequential \n",
        "#from tensorflow.keras.layers import Conv2D, MaxPooling2D \n",
        "from tensorflow.keras.layers import GlobalAveragePooling2D\n",
        "from tensorflow.keras.layers import Activation, Dropout, Flatten, Dense \n",
        "from tensorflow.keras import backend as K \n",
        "from tensorflow.keras.applications import MobileNet\n",
        "from tensorflow.keras.models import Model\n"
      ],
      "execution_count": 0,
      "outputs": []
    },
    {
      "cell_type": "code",
      "metadata": {
        "id": "tyANZNCzjoZb",
        "colab_type": "code",
        "colab": {}
      },
      "source": [
        "img_width = 224\n",
        "img_height = 224"
      ],
      "execution_count": 0,
      "outputs": []
    },
    {
      "cell_type": "code",
      "metadata": {
        "id": "1ZN5QElMjrcQ",
        "colab_type": "code",
        "colab": {}
      },
      "source": [
        "def pre(img):\n",
        "    img = (img/127.5)-1\n",
        "    return img"
      ],
      "execution_count": 0,
      "outputs": []
    },
    {
      "cell_type": "code",
      "metadata": {
        "id": "eh1vmthIn86z",
        "colab_type": "code",
        "colab": {}
      },
      "source": [
        "import pandas as pd"
      ],
      "execution_count": 0,
      "outputs": []
    },
    {
      "cell_type": "code",
      "metadata": {
        "id": "GgrF7E2nn9Vy",
        "colab_type": "code",
        "colab": {}
      },
      "source": [
        "test_csv = pd.read_csv('test/testset.csv',dtype=str)\n"
      ],
      "execution_count": 0,
      "outputs": []
    },
    {
      "cell_type": "code",
      "metadata": {
        "id": "d_VdwMX_n9dH",
        "colab_type": "code",
        "colab": {}
      },
      "source": [
        "train_csv = pd.read_csv('train/testset.csv',dtype=str)"
      ],
      "execution_count": 0,
      "outputs": []
    },
    {
      "cell_type": "code",
      "metadata": {
        "id": "T_WeViY1n9aQ",
        "colab_type": "code",
        "colab": {}
      },
      "source": [
        ""
      ],
      "execution_count": 0,
      "outputs": []
    },
    {
      "cell_type": "code",
      "metadata": {
        "id": "Jr36br-bjvFF",
        "colab_type": "code",
        "outputId": "acb87a9a-a9b1-4b22-8d4b-3d97c0825454",
        "colab": {
          "base_uri": "https://localhost:8080/",
          "height": 35
        }
      },
      "source": [
        "datagen=ImageDataGenerator()\n",
        "train_generator=datagen.flow_from_dataframe(dataframe=train_csv, directory=\"train/testset\",\\\n",
        "                                            x_col=\"Data\", y_col=\"Label\", \\\n",
        "                                            class_mode=\"categorical\", target_size=(img_width,img_height), \\\n",
        "                                            batch_size=32,\\\n",
        "                                            preprocessing_function=lambda x: (img/127.5)-1)"
      ],
      "execution_count": 17,
      "outputs": [
        {
          "output_type": "stream",
          "text": [
            "Found 9600 validated image filenames belonging to 48 classes.\n"
          ],
          "name": "stdout"
        }
      ]
    },
    {
      "cell_type": "code",
      "metadata": {
        "id": "QwgGEDUtpRKh",
        "colab_type": "code",
        "outputId": "00572764-41b5-40e5-cea5-3eb197360790",
        "colab": {
          "base_uri": "https://localhost:8080/",
          "height": 35
        }
      },
      "source": [
        "\n",
        "test_generator=datagen.flow_from_dataframe(dataframe=test_csv, directory=\"test/testset\",\\\n",
        "                                            x_col=\"Data\", y_col=\"Label\",\\\n",
        "                                            class_mode=\"categorical\", target_size=(img_width,img_height),\\\n",
        "                                            batch_size=32,\\\n",
        "                                           preprocessing_function=lambda x: (img/127.5)-1)"
      ],
      "execution_count": 18,
      "outputs": [
        {
          "output_type": "stream",
          "text": [
            "Found 2609 validated image filenames belonging to 48 classes.\n"
          ],
          "name": "stdout"
        }
      ]
    },
    {
      "cell_type": "code",
      "metadata": {
        "id": "lTPtZo9Njcz1",
        "colab_type": "code",
        "colab": {}
      },
      "source": [
        "base_model=MobileNet(input_shape=(224, 224, 3), include_top = False, weights = 'imagenet')"
      ],
      "execution_count": 0,
      "outputs": []
    },
    {
      "cell_type": "code",
      "metadata": {
        "id": "e3Uvjox5jc6x",
        "colab_type": "code",
        "colab": {}
      },
      "source": [
        "for layer in base_model.layers[:20]:\n",
        "    layer.trainable = False\n",
        "for layer in base_model.layers[20:]:\n",
        "    layer.trainable = True"
      ],
      "execution_count": 0,
      "outputs": []
    },
    {
      "cell_type": "code",
      "metadata": {
        "id": "yimO0-yrkvDm",
        "colab_type": "code",
        "colab": {}
      },
      "source": [
        "global_average_layer = GlobalAveragePooling2D()\n",
        "prediction_layer = Dense(48,activation ='softmax')"
      ],
      "execution_count": 0,
      "outputs": []
    },
    {
      "cell_type": "code",
      "metadata": {
        "id": "zgYuY5FBjc47",
        "colab_type": "code",
        "colab": {}
      },
      "source": [
        "model = Sequential([\n",
        "  base_model,\n",
        "  global_average_layer,\n",
        "  prediction_layer,\n",
        "])"
      ],
      "execution_count": 0,
      "outputs": []
    },
    {
      "cell_type": "code",
      "metadata": {
        "id": "sjwQx8CYk4Eq",
        "colab_type": "code",
        "colab": {}
      },
      "source": [
        "model.compile(optimizer='adam',\n",
        "              loss='categorical_crossentropy',\n",
        "              metrics=['accuracy'])"
      ],
      "execution_count": 0,
      "outputs": []
    },
    {
      "cell_type": "code",
      "metadata": {
        "id": "6E4R8eRxkgW9",
        "colab_type": "code",
        "colab": {}
      },
      "source": [
        "# model.fit(train_generator, validation_data=test_generator,\n",
        "#                    epochs=10)"
      ],
      "execution_count": 0,
      "outputs": []
    },
    {
      "cell_type": "code",
      "metadata": {
        "id": "EpSjqfGusroX",
        "colab_type": "code",
        "colab": {}
      },
      "source": [
        ""
      ],
      "execution_count": 0,
      "outputs": []
    },
    {
      "cell_type": "code",
      "metadata": {
        "id": "I6NOZSkGrigJ",
        "colab_type": "code",
        "colab": {}
      },
      "source": [
        "# STEP_SIZE_TRAIN=train_generator.n//train_generator.batch_size\n",
        "# STEP_SIZE_VALID=test_generator.n//test_generator.batch_size\n"
      ],
      "execution_count": 0,
      "outputs": []
    },
    {
      "cell_type": "code",
      "metadata": {
        "id": "J0rU8DclyoZp",
        "colab_type": "code",
        "colab": {}
      },
      "source": [
        "# STEP_SIZE_TRAIN"
      ],
      "execution_count": 0,
      "outputs": []
    },
    {
      "cell_type": "code",
      "metadata": {
        "id": "j93AvhAzte0q",
        "colab_type": "code",
        "outputId": "7eec196e-27fb-4e5b-fa9f-16384ed0268b",
        "colab": {
          "base_uri": "https://localhost:8080/",
          "height": 386
        }
      },
      "source": [
        "history = model.fit_generator(generator=train_generator,\n",
        "                    steps_per_epoch=250,\n",
        "                    validation_data=test_generator,\n",
        "                    validation_steps=60,\n",
        "                    epochs=8)"
      ],
      "execution_count": 27,
      "outputs": [
        {
          "output_type": "stream",
          "text": [
            "WARNING:tensorflow:From <ipython-input-27-9214c02e3345>:5: Model.fit_generator (from tensorflow.python.keras.engine.training) is deprecated and will be removed in a future version.\n",
            "Instructions for updating:\n",
            "Please use Model.fit, which supports generators.\n",
            "Epoch 1/8\n",
            "250/250 [==============================] - 65s 258ms/step - loss: 0.6030 - accuracy: 0.8595 - val_loss: 0.2914 - val_accuracy: 0.9276\n",
            "Epoch 2/8\n",
            "250/250 [==============================] - 64s 258ms/step - loss: 0.0717 - accuracy: 0.9850 - val_loss: 1.3286 - val_accuracy: 0.6594\n",
            "Epoch 3/8\n",
            "250/250 [==============================] - 63s 254ms/step - loss: 0.0563 - accuracy: 0.9871 - val_loss: 0.0946 - val_accuracy: 0.9844\n",
            "Epoch 4/8\n",
            "250/250 [==============================] - 63s 251ms/step - loss: 0.0429 - accuracy: 0.9906 - val_loss: 0.0746 - val_accuracy: 0.9833\n",
            "Epoch 5/8\n",
            "250/250 [==============================] - 62s 250ms/step - loss: 0.0304 - accuracy: 0.9930 - val_loss: 0.0944 - val_accuracy: 0.9802\n",
            "Epoch 6/8\n",
            "250/250 [==============================] - 63s 253ms/step - loss: 0.0108 - accuracy: 0.9973 - val_loss: 0.0315 - val_accuracy: 0.9964\n",
            "Epoch 7/8\n",
            "250/250 [==============================] - 63s 253ms/step - loss: 0.0323 - accuracy: 0.9915 - val_loss: 0.2185 - val_accuracy: 0.9396\n",
            "Epoch 8/8\n",
            "250/250 [==============================] - 63s 252ms/step - loss: 0.0251 - accuracy: 0.9946 - val_loss: 0.0685 - val_accuracy: 0.9812\n"
          ],
          "name": "stdout"
        }
      ]
    },
    {
      "cell_type": "code",
      "metadata": {
        "id": "kRqMrVYq0hQE",
        "colab_type": "code",
        "colab": {}
      },
      "source": [
        "model.save('model.h5')"
      ],
      "execution_count": 0,
      "outputs": []
    },
    {
      "cell_type": "code",
      "metadata": {
        "id": "PzF5O4D8rwFz",
        "colab_type": "code",
        "colab": {}
      },
      "source": [
        "import matplotlib.pyplot as plt"
      ],
      "execution_count": 0,
      "outputs": []
    },
    {
      "cell_type": "code",
      "metadata": {
        "id": "wKt8s55Crv_G",
        "colab_type": "code",
        "colab": {
          "base_uri": "https://localhost:8080/",
          "height": 499
        },
        "outputId": "e5ee5fcc-eb28-4f3d-d3eb-2f1ad47f2800"
      },
      "source": [
        "acc = history.history['accuracy']\n",
        "val_acc = history.history['val_accuracy']\n",
        "\n",
        "loss = history.history['loss']\n",
        "val_loss = history.history['val_loss']\n",
        "\n",
        "plt.figure(figsize=(8, 8))\n",
        "plt.subplot(2, 1, 1)\n",
        "plt.plot(acc, label='Training Accuracy')\n",
        "plt.plot(val_acc, label='Validation Accuracy')\n",
        "plt.legend(loc='lower right')\n",
        "plt.ylabel('Accuracy')\n",
        "plt.ylim([min(plt.ylim()),1])\n",
        "plt.title('Training and testing Accuracy')\n",
        "\n",
        "plt.subplot(2, 1, 2)\n",
        "plt.plot(loss, label='Training Loss')\n",
        "plt.plot(val_loss, label='testing Loss')\n",
        "plt.legend(loc='upper right')\n",
        "plt.ylabel('Cross Entropy')\n",
        "plt.ylim([0,max(plt.ylim())])\n",
        "plt.title('Training and Validation Loss')\n",
        "plt.show()"
      ],
      "execution_count": 31,
      "outputs": [
        {
          "output_type": "display_data",
          "data": {
            "image/png": "[encoded data removed]",
            "text/plain": [
              "<Figure size 576x576 with 2 Axes>"
            ]
          },
          "metadata": {
            "tags": [],
            "needs_background": "light"
          }
        }
      ]
    },
    {
      "cell_type": "code",
      "metadata": {
        "id": "YnRWsdwqwqb4",
        "colab_type": "code",
        "colab": {}
      },
      "source": [
        ""
      ],
      "execution_count": 0,
      "outputs": []
    }
  ]
}